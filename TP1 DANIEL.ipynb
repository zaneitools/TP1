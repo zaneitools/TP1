{
 "cells": [
  {
   "cell_type": "markdown",
   "metadata": {},
   "source": [
    "# Lab 5 (TP 1): Orientação a objetos com Python"
   ]
  },
  {
   "cell_type": "markdown",
   "metadata": {},
   "source": [
    "# Aluno: Daniel Henrique Cordeiro"
   ]
  },
  {
   "cell_type": "markdown",
   "metadata": {},
   "source": [
    "## Overview\n",
    "\n",
    "Depois da última aula, que na maior parte cobriu regras, definições e semântica, nós estaremos brincando com classes reais hoje, escrevendo um bom pedaço de código e construindo várias classes para resolver uma variedade de problemas.\n",
    "\n",
    "Lembre-se de nossas definições iniciais:\n",
    "\n",
    "- Um *objeto* tem identidade\n",
    "- Um *nome* é uma referência a um objeto\n",
    "- Um *namespace* é um mapeamento associativo de nomes para objetos\n",
    "- Um *atributo* é qualquer nome após um ponto ('.')"
   ]
  },
  {
   "cell_type": "markdown",
   "metadata": {},
   "source": [
    "## Cursos de Stanford"
   ]
  },
  {
   "cell_type": "markdown",
   "metadata": {},
   "source": [
    "### Classe base\n",
    "\n",
    "Vamos criar uma turma para representar cursos na Stanford! Um curso terá três atributos para iniciar: um departamento (como `\"CS\"`), um código de curso (como `\"41\"` ou `\" 92SI \"`) e um título (como `\"hap.py code\" `).\n",
    "\n",
    "```Python\n",
    "class StanfordCourse:\n",
    "    def __init__(self, department, code, title):\n",
    "        self.department = department\n",
    "        self.code = code\n",
    "        self.title = title\n",
    "```\n",
    "\n",
    "Você pode assumir que todos os argumentos para este construtor serão strings.\n",
    "\n",
    "Executar a célula de código a seguir criará a classe `StanfordCourse` e imprimirá algumas informações sobre ela.\n",
    "\n",
    "*Nota: Se você alterar o conteúdo desta definição de classe, você precisará re-executar a célula de código para que ela tenha algum efeito. Todos os objetos de instância do objeto de classe antigo não serão atualizados automaticamente, portanto, talvez seja necessário executar novamente instanciações desse objeto de classe.*"
   ]
  },
  {
   "cell_type": "code",
   "execution_count": 1,
   "metadata": {},
   "outputs": [
    {
     "name": "stdout",
     "output_type": "stream",
     "text": [
      "<class '__main__.StanfordCourse'>\n",
      "[<class '__main__.StanfordCourse'>, <class 'object'>]\n",
      "<function StanfordCourse.__init__ at 0x0000024E86664D08>\n"
     ]
    }
   ],
   "source": [
    "class StanfordCourse:\n",
    "    def __init__(self, department, code, title):\n",
    "        self.department = department\n",
    "        self.code = code\n",
    "        self.title = title\n",
    "        \n",
    "print(StanfordCourse)\n",
    "print(StanfordCourse.mro())\n",
    "print(StanfordCourse.__init__)"
   ]
  },
  {
   "cell_type": "markdown",
   "metadata": {},
   "source": [
    "Criamos uma instância da classe, instanciando o objeto de classe, fornecendo alguns argumentos.\n",
    "\n",
    "```Python\n",
    "stanford_python = StanfordCourse(\"CS\", \"41\", \"hap.py code: the python programming language\")\n",
    "```\n",
    "Imprima os três atributos do objeto `stanford_python`."
   ]
  },
  {
   "cell_type": "code",
   "execution_count": 2,
   "metadata": {},
   "outputs": [
    {
     "name": "stdout",
     "output_type": "stream",
     "text": [
      "CS\n",
      "41\n",
      "hap.py code: the python programming language\n"
     ]
    }
   ],
   "source": [
    "stanford_python = StanfordCourse(\"CS\", \"41\", \"hap.py code: the python programming language\")\n",
    "\n",
    "print(stanford_python.department)  # Print out the department of stanford_python\n",
    "print(stanford_python.code)  # Print out the code of stanford_python\n",
    "print(stanford_python.title)  # Print out the title of stanford_python"
   ]
  },
  {
   "cell_type": "markdown",
   "metadata": {},
   "source": [
    "### Herança\n",
    "\n",
    "Vamos explorar a herança criando uma classe `StanfordCSCourse` que recebe um parâmetro adicional` recorded` com valor padrão `False`."
   ]
  },
  {
   "cell_type": "code",
   "execution_count": 3,
   "metadata": {},
   "outputs": [],
   "source": [
    "class StanfordCSCourse(StanfordCourse):\n",
    "    def __init__(self, department, code, title, recorded=False):\n",
    "        super().__init__(department, code, title)\n",
    "        self.is_recorded = recorded"
   ]
  },
  {
   "cell_type": "markdown",
   "metadata": {},
   "source": [
    "Nós ainda não vimos a chamada `super()`, mas essa chamada nos permite tratar o objeto `self` como um objeto de instância da superclasse imediata (medida pelo MRO), então podemos chamar o método `__init__` da superclasse.\n",
    "\n",
    "Podemos instanciar nossa nova classe:\n",
    "\n",
    "```Python\n",
    "a = StanfordCourse(\"CS\", \"106A\", \"Programming Methodology\")\n",
    "b = StanfordCSCourse(\"CS\", \"106B\", \"Programming Abstractions\")\n",
    "x = StanfordCSCourse(\"CS\", \"106X\", \"Programming Abstractions\", recorded=True)\n",
    "print(a.code)  # => \"106A\"\n",
    "print(b.code)  # => \"106B\"\n",
    "```\n",
    "\n",
    "Leia as seguintes declarações e tente prever sua saída.\n",
    "\n",
    "```Python\n",
    "type(a)\n",
    "isinstance(a, StanfordCourse)\n",
    "isinstance(b, StanfordCourse)\n",
    "isinstance(x, StanfordCourse)\n",
    "isinstance(x, StanfordCSCourse)\n",
    "issubclass(x, StanfordCSCourse)\n",
    "issubclass(StanfordCourse, StanfordCSCourse)\n",
    "type(a) == type(b)\n",
    "type(b) == type(x)\n",
    "a == b\n",
    "b == x\n",
    "```"
   ]
  },
  {
   "cell_type": "code",
   "execution_count": 4,
   "metadata": {},
   "outputs": [
    {
     "name": "stdout",
     "output_type": "stream",
     "text": [
      "<class '__main__.StanfordCourse'>\n",
      "True\n",
      "True\n",
      "True\n",
      "True\n",
      "False\n",
      "False\n",
      "True\n",
      "False\n",
      "False\n"
     ]
    }
   ],
   "source": [
    "a = StanfordCourse(\"CS\", \"106A\", \"Programming Methodology\")\n",
    "b = StanfordCSCourse(\"CS\", \"106B\", \"Programming Abstractions\")\n",
    "x = StanfordCSCourse(\"CS\", \"106X\", \"Programming Abstractions\", recorded=True)\n",
    "\n",
    "print(type(a))\n",
    "print(isinstance(a, StanfordCourse))\n",
    "print(isinstance(b, StanfordCourse))\n",
    "print(isinstance(x, StanfordCourse))\n",
    "print(isinstance(x, StanfordCSCourse))\n",
    "print(issubclass(StanfordCourse, StanfordCSCourse))\n",
    "print(type(a) == type(b))\n",
    "print(type(b) == type(x))\n",
    "print(a == b)\n",
    "print(b == x)"
   ]
  },
  {
   "cell_type": "markdown",
   "metadata": {},
   "source": [
    "### Atributos Adicionais\n",
    "\n",
    "Vamos adicionar mais funcionalidades à classe `StanfordCourse`!\n",
    "\n",
    "* Adicione um atributo `students` às instâncias da classe `StanfordCourse` que controla se os alunos estão presentes. Inicialmente, os alunos devem ser um conjunto vazio.\n",
    "* Crie um método `mark_attendance(*students)` que tome um número variável de `students` e marque-os como presentes.\n",
    "* Crie um método `is_present(student)` que use o nome de um aluno como parâmetro e retorne `True` se o aluno estiver presente e `False` caso contrário."
   ]
  },
  {
   "cell_type": "code",
   "execution_count": 39,
   "metadata": {},
   "outputs": [],
   "source": [
    "import numpy as np"
   ]
  },
  {
   "cell_type": "code",
   "execution_count": 110,
   "metadata": {},
   "outputs": [],
   "source": [
    "class StanfordCourse:\n",
    "    def __init__(self, department, code, title):\n",
    "        self.department = department\n",
    "        self.code = code\n",
    "        self.title = title\n",
    "        self.students = []\n",
    "                \n",
    "    def mark_attendance(self, *students):\n",
    "        for s in students:\n",
    "            print(s)\n",
    "            self.students.append(s)\n",
    "    \n",
    "    def is_present(self, student):\n",
    "        for s in self.students:\n",
    "            if(s==student):\n",
    "                return True\n",
    "        return False\n",
    "\n",
    "\n",
    "    "
   ]
  },
  {
   "cell_type": "code",
   "execution_count": 111,
   "metadata": {},
   "outputs": [
    {
     "data": {
      "text/plain": [
       "numpy.ndarray"
      ]
     },
     "execution_count": 111,
     "metadata": {},
     "output_type": "execute_result"
    }
   ],
   "source": [
    "course = StanfordCourse(\"CS\", \"106A\", \"Programming Methodology\")\n",
    "#print(course.students)\n",
    "students=np.array(['João', 'Maria', 'José'])\n",
    "type(students)\n"
   ]
  },
  {
   "cell_type": "code",
   "execution_count": 112,
   "metadata": {},
   "outputs": [
    {
     "name": "stdout",
     "output_type": "stream",
     "text": [
      "João\n",
      "Maria\n",
      "José\n",
      "['João', 'Maria', 'José']\n"
     ]
    },
    {
     "data": {
      "text/plain": [
       "True"
      ]
     },
     "execution_count": 112,
     "metadata": {},
     "output_type": "execute_result"
    }
   ],
   "source": [
    "course.mark_attendance('João', 'Maria', 'José')\n",
    "print(course.students)\n",
    "a='João'\n",
    "course.is_present(student='Maria')"
   ]
  },
  {
   "cell_type": "markdown",
   "metadata": {},
   "source": [
    "### Implementando Pré-requisitos\n",
    "\n",
    "Agora, vamos nos concentrar em `StanfordCSCourse`. Queremos implementar a funcionalidade para determinar se um curso de ciência da computação é um pré-requisito de outro. Em nossa implementação, assumiremos que a ordenação de cursos é determinada primeiro pela parte numérica do código do curso: por exemplo, `140` vem antes de` 255`. Se houver um empate, a ordenação é determinada pela ordenação padrão das letras que se seguem. Por exemplo, `106A < 106B`. Após a implementação, você poderá ver:\n",
    "\n",
    "```Python\n",
    ">>> cs106a = StanfordCourse(\"CS\", \"106A\", \"Programming Methodology\")\n",
    ">>> cs106b = StanfordCSCourse(\"CS\", \"106B\", \"Programming Abstractions\")\n",
    ">>> cs107 = StanfordCSCourse(\"CS\", \"107\", \"Computer Organzation and Systems\")\n",
    ">>> cs110 = StanfordCSCourse(\"CS\", \"110\", \"Principles of Computer Systems\")\n",
    ">>> cs110 > cs106b\n",
    "True\n",
    ">>> cs107 > cs110\n",
    "False\n",
    "```\n",
    "\n",
    "Para conseguir isso, você precisará implementar o método mágico `__le__` que adicionará funcionalidade para determinar se um curso é um pré-requisito para outro curso. Leia em [*total ordering*](https://docs.python.org/3/library/functools.html#functools.total_ordering) para descobrir o que `__le__` deve retornar com base no argumento transmitido.\n",
    "\n",
    "Para dar algumas dicas sobre como adicionar este pedaço de funcionalidade pode ser implementado, considere como você pode extrair o número real `int` do atributo de código do curso.\n",
    "\n",
    "Adicionalmente, você deve implementar um `__eq__` na classe `StanfordCourse`. Dois cursos são equivalentes se estiverem no mesmo departamento e tiverem o mesmo código do curso: o título do curso não importa aqui."
   ]
  },
  {
   "cell_type": "code",
   "execution_count": 207,
   "metadata": {},
   "outputs": [],
   "source": [
    "from functools import total_ordering\n",
    "\n",
    "@total_ordering\n",
    "class StanfordCSCourse:\n",
    "    def __init__(self, department, code, title):\n",
    "        self.department = department\n",
    "        self.code = code\n",
    "        self.title = title\n",
    "        \n",
    "    def mark_attendance(self, *students):\n",
    "        for s in students:\n",
    "            self.students.append(s)\n",
    "    \n",
    "    def __le__(self, other):\n",
    "        self_code_int = int(self.code[0:3])\n",
    "        other_code_int = int(other.code[0:3])\n",
    "        if len(other.code)>3:\n",
    "            self_code_aux = (self.code[-1])\n",
    "            other_code_aux = (other.code[-1])\n",
    "        else:\n",
    "            self_code_aux = 'A'\n",
    "            other_code_aux = 'A'\n",
    "        #print(str(self_code_int) + ' ' + str(other_code_int)  + ' ' + self_code_aux  + ' ' + other_code_aux)\n",
    "        \n",
    "        return (self_code_int <= other_code_int) and self_code_aux < other_code_aux\n",
    "    def __eq__(self, other):\n",
    "        \n",
    "        return (self.code==other.code) and (self.department==other.department)\n",
    "    \n",
    "    "
   ]
  },
  {
   "cell_type": "code",
   "execution_count": 208,
   "metadata": {},
   "outputs": [
    {
     "name": "stdout",
     "output_type": "stream",
     "text": [
      "106 106 A B\n",
      "True\n"
     ]
    }
   ],
   "source": [
    "cs106a = StanfordCourse(\"CS\", \"106A\", \"Programming Methodology\")\n",
    "cs106b = StanfordCSCourse(\"CS\", \"106B\", \"Programming Abstractions\")\n",
    "print(cs106a.__le__(cs106b))"
   ]
  },
  {
   "cell_type": "code",
   "execution_count": 209,
   "metadata": {},
   "outputs": [
    {
     "name": "stdout",
     "output_type": "stream",
     "text": [
      "True\n"
     ]
    }
   ],
   "source": [
    "cs107 = StanfordCSCourse(\"CS\", \"107\", \"Computer Organzation and Systems\")\n",
    "cs110 = StanfordCSCourse(\"CS\", \"110\", \"Principles of Computer Systems\")\n",
    "print(cs107.__eq__(StanfordCSCourse(\"CS\", \"107\", \"Teste\")))"
   ]
  },
  {
   "cell_type": "markdown",
   "metadata": {},
   "source": [
    "#### Ordenação\n",
    "\n",
    "Agora que escrevemos um método `__le__` e um método `__eq__`, implementamos tudo o que precisamos para falar sobre uma \"ordenação\" do `StanfordCourse`s. Usando o decorador [`functools.total_ordering`](https://docs.python.org/3/library/functools.html#functools.total_ordering), decore a classe para que todos os métodos de comparação sejam implementados. Você deveria poder executar o código abaixo sem problemas."
   ]
  },
  {
   "cell_type": "code",
   "execution_count": 210,
   "metadata": {},
   "outputs": [
    {
     "data": {
      "text/plain": [
       "'110'"
      ]
     },
     "execution_count": 210,
     "metadata": {},
     "output_type": "execute_result"
    }
   ],
   "source": [
    "# Let's make CS106A a CS course\n",
    "cs106a = StanfordCSCourse(\"CS\", \"106A\", \"Programming Methodology\")\n",
    "cs106b = StanfordCSCourse(\"CS\", \"106B\", \"Programming Abstractions\")\n",
    "cs107 = StanfordCSCourse(\"CS\", \"107\", \"Computer Organzation and Systems\")\n",
    "cs110 = StanfordCSCourse(\"CS\", \"110\", \"Principles of Computer Systems\")\n",
    "\n",
    "courses = [cs110, cs106a, cs107, cs106b]\n",
    "courses.sort()\n",
    "courses[0].code # => [cs106a, cs106b, cs107, cs110]"
   ]
  },
  {
   "cell_type": "markdown",
   "metadata": {},
   "source": [
    "### Catálogo\n",
    "\n",
    "Implemente uma classe chamada `CourseCatalog` que é construída a partir de uma lista de `StanfordCourse`s. Escreva um método para o `CourseCatalog` que retorna uma lista de cursos em um determinado departamento. Adicionalmente, escreva um método para o `CourseCatalog` que retorne todos os cursos que contenham um dado pedaço de texto de busca em seu título.\n",
    "\n",
    "Sinta-se à vontade para implementar qualquer outro método interessante que você queira."
   ]
  },
  {
   "cell_type": "code",
   "execution_count": 255,
   "metadata": {},
   "outputs": [],
   "source": [
    "class CourseCatalog:\n",
    "    def __init__(self, courses):\n",
    "        self.courses=list(courses)\n",
    "        pass\n",
    "       \n",
    "    def courses_by_department(self, department_name):\n",
    "        by_dep_list= [x for x in self.courses if x.department == department_name]\n",
    "        return by_dep_list\n",
    "        \n",
    "    def courses_by_search_term(self, search_snippet):\n",
    "        search_list= []\n",
    "        for x in self.courses:\n",
    "            if search_snippet in x.title:\n",
    "                search_list.append(x)\n",
    "        return search_list\n",
    "        "
   ]
  },
  {
   "cell_type": "code",
   "execution_count": 264,
   "metadata": {},
   "outputs": [
    {
     "name": "stdout",
     "output_type": "stream",
     "text": [
      "Resultado da Busca de Cursos do Departamento: EE\n",
      "\n",
      "\tIndustrial Organization\n",
      "\tPower Systems\n",
      "\n",
      "Resultado da Busca de Cursos do Departamento: CS\n",
      "\n",
      "\tProgramming for Engineering\n",
      "\tProgramming Methodology\n",
      "\tComputer Organzation and Systems\n",
      "\tProgramming Abstractions\n"
     ]
    }
   ],
   "source": [
    "cs106a = StanfordCSCourse(\"CS\", \"106A\", \"Programming Methodology\")\n",
    "cs106b = StanfordCSCourse(\"CS\", \"106B\", \"Programming Abstractions\")\n",
    "cs107 = StanfordCSCourse(\"CS\", \"107\", \"Computer Organzation and Systems\")\n",
    "cs110 = StanfordCSCourse(\"CS\", \"110\", \"Programming for Engineering\")\n",
    "ee106a = StanfordCSCourse(\"EE\", \"106A\", \"Industrial Organization\")\n",
    "ee106b = StanfordCSCourse(\"EE\", \"106B\", \"Power Systems\")\n",
    "\n",
    "courses = [cs110, cs106a, cs107, cs106b, ee106a, ee106b]\n",
    "\n",
    "catalog=CourseCatalog(courses)\n",
    "\n",
    "departamento=\"EE\"\n",
    "dep_courses=catalog.courses_by_department(departamento)\n",
    "print(\"Resultado da Busca de Cursos do Departamento: \" + departamento + \"\\n\")\n",
    "for course in dep_courses:\n",
    "    print(\"\\t\" + course.title)\n",
    "\n",
    "departamento=\"CS\"\n",
    "dep_courses=catalog.courses_by_department(departamento)\n",
    "print(\"\\nResultado da Busca de Cursos do Departamento: \" + departamento + \"\\n\")\n",
    "for course in dep_courses:\n",
    "    print(\"\\t\" + course.title)\n",
    "    "
   ]
  },
  {
   "cell_type": "code",
   "execution_count": 265,
   "metadata": {},
   "outputs": [
    {
     "name": "stdout",
     "output_type": "stream",
     "text": [
      "Resultado da Busca de Cursos com o tema: Programming\n",
      "\tProgramming for Engineering\n",
      "\tProgramming Methodology\n",
      "\tProgramming Abstractions\n"
     ]
    }
   ],
   "source": [
    "busca_por=\"Programming\"\n",
    "programming_courses=catalog.courses_by_search_term(busca_por)\n",
    "print(\"Resultado da Busca de Cursos com o tema: \" + busca_por)\n",
    "for course in programming_courses:\n",
    "    print(\"\\t\" + course.title)"
   ]
  },
  {
   "cell_type": "markdown",
   "metadata": {},
   "source": [
    "## Herança"
   ]
  },
  {
   "cell_type": "markdown",
   "metadata": {},
   "source": [
    "Considere o seguinte código:\n",
    "\n",
    "```Python\n",
    "\"\"\"Examples of Single Inheritance\"\"\"\n",
    "class Transportation:\n",
    "    wheels = 0\n",
    "\n",
    "    def __init__(self):\n",
    "        self.wheels = -1\n",
    "\n",
    "    def travel_one(self):\n",
    "        print(\"Travelling on generic transportation\")\n",
    "\n",
    "    def travel(self, distance):\n",
    "        for _ in range(distance):\n",
    "            self.travel_one()\n",
    "\n",
    "    def is_auto(self):\n",
    "        return self.wheels == 4\n",
    "\n",
    "class Bike(Transportation):\n",
    "\n",
    "    def travel_one(self):\n",
    "        print(\"Biking one mile\")\n",
    "\n",
    "class Car(Transportation):\n",
    "    wheels = 4\n",
    "\n",
    "    def travel_one(self):\n",
    "        print(\"Driving one mile\")\n",
    "\n",
    "    def make_sound(self):\n",
    "        print(\"VROOM\")\n",
    "\n",
    "class Ferrari(Car):\n",
    "    pass\n",
    "\n",
    "t = Transportation()\n",
    "b = Bike()\n",
    "c = Car()\n",
    "f = Ferrari()\n",
    "```\n",
    "\n",
    "Preveja o resultado de cada uma das seguintes linhas de código.\n",
    "\n",
    "```Python\n",
    "isinstance(t, Transportation)\n",
    "\n",
    "isinstance(b, Bike)\n",
    "isinstance(b, Transportation)\n",
    "isinstance(b, Car)\n",
    "isinstance(b, t)\n",
    "\n",
    "isinstance(c, Car)\n",
    "isinstance(c, Transportation)\n",
    "\n",
    "isinstance(f, Ferrari)\n",
    "isinstance(f, Car)\n",
    "isinstance(f, Transportation)\n",
    "\n",
    "issubclass(Bike, Transportation)\n",
    "issubclass(Car, Transportation)\n",
    "issubclass(Ferrari, Car)\n",
    "issubclass(Ferrari, Transportation)\n",
    "issubclass(Transportation, Transportation)\n",
    "\n",
    "b.travel(5)\n",
    "c.is_auto()\n",
    "f.is_auto()\n",
    "b.is_auto()\n",
    "b.make_sound()\n",
    "c.travel(10)\n",
    "f.travel(4)\n",
    "```"
   ]
  },
  {
   "cell_type": "code",
   "execution_count": 266,
   "metadata": {},
   "outputs": [],
   "source": [
    "class Transportation:\n",
    "    wheels = 0\n",
    "\n",
    "    def __init__(self):\n",
    "        self.wheels = -1\n",
    "\n",
    "    def travel_one(self):\n",
    "        print(\"Travelling on generic transportation\")\n",
    "\n",
    "    def travel(self, distance):\n",
    "        for _ in range(distance):\n",
    "            self.travel_one()\n",
    "\n",
    "    def is_auto(self):\n",
    "        return self.wheels == 4\n",
    "\n",
    "class Bike(Transportation):\n",
    "\n",
    "    def travel_one(self):\n",
    "        print(\"Biking one mile\")\n",
    "\n",
    "class Car(Transportation):\n",
    "    wheels = 4\n",
    "\n",
    "    def travel_one(self):\n",
    "        print(\"Driving one mile\")\n",
    "\n",
    "    def make_sound(self):\n",
    "        print(\"VROOM\")\n",
    "\n",
    "class Ferrari(Car):\n",
    "    pass\n",
    "\n",
    "t = Transportation()\n",
    "b = Bike()\n",
    "c = Car()\n",
    "f = Ferrari()"
   ]
  },
  {
   "cell_type": "code",
   "execution_count": 267,
   "metadata": {},
   "outputs": [
    {
     "name": "stdout",
     "output_type": "stream",
     "text": [
      "True\n",
      "True\n",
      "True\n",
      "False\n",
      "False\n",
      "True\n",
      "True\n",
      "True\n",
      "True\n",
      "True\n",
      "True\n",
      "True\n",
      "True\n",
      "True\n",
      "True\n",
      "Biking one mile\n",
      "Biking one mile\n",
      "Biking one mile\n",
      "Biking one mile\n",
      "Biking one mile\n",
      "False\n",
      "False\n",
      "False\n",
      "Driving one mile\n",
      "Driving one mile\n",
      "Driving one mile\n",
      "Driving one mile\n",
      "Driving one mile\n",
      "Driving one mile\n",
      "Driving one mile\n",
      "Driving one mile\n",
      "Driving one mile\n",
      "Driving one mile\n",
      "Driving one mile\n",
      "Driving one mile\n",
      "Driving one mile\n",
      "Driving one mile\n"
     ]
    }
   ],
   "source": [
    "print(isinstance(t, Transportation))\n",
    "\n",
    "print(isinstance(b, Bike))\n",
    "print(isinstance(b, Transportation))\n",
    "print(isinstance(b, Car))\n",
    "print(isinstance(b, type(Car)))\n",
    "\n",
    "print(isinstance(c, Car))\n",
    "print(isinstance(c, Transportation))\n",
    "\n",
    "print(isinstance(f, Ferrari))\n",
    "print(isinstance(f, Car))\n",
    "print(isinstance(f, Transportation))\n",
    "\n",
    "print(issubclass(Bike, Transportation))\n",
    "print(issubclass(Car, Transportation))\n",
    "print(issubclass(Ferrari, Car))\n",
    "print(issubclass(Ferrari, Transportation))\n",
    "print(issubclass(Transportation, Transportation))\n",
    "\n",
    "b.travel(5)\n",
    "print(c.is_auto())\n",
    "print(f.is_auto())\n",
    "print(b.is_auto())\n",
    "# b.make_sound()\n",
    "c.travel(10)\n",
    "f.travel(4)"
   ]
  },
  {
   "cell_type": "markdown",
   "metadata": {},
   "source": [
    "## Exceções"
   ]
  },
  {
   "cell_type": "markdown",
   "metadata": {},
   "source": [
    "### Leitura\n",
    "\n",
    "[Python's documentation on built-in exceptions](https://docs.python.org/3.4/library/exceptions.html)."
   ]
  },
  {
   "cell_type": "markdown",
   "metadata": {},
   "source": [
    "### `try`/`except`/`else`/`finally`\n",
    "\n",
    "O Python fornece blocos `try` e` except`, semelhantes aos blocos `try` e `catch` de outras linguagens, para um fluxo de controle de exceções."
   ]
  },
  {
   "cell_type": "markdown",
   "metadata": {},
   "source": [
    "#### `get_age`\n",
    "\n",
    "Escreva uma função `get_age` que pede a idade de um usuário, que deve ser um número inteiro positivo entre 0 e 123, inclusive (a pessoa mais velha registrada, Jeanna Clement, morreu aos 122 anos). Se o usuário inserir algo que não seja um inteiro, você deverá fazer uma nova solicitação. No entanto, se eles inserirem um número inteiro e estiverem fora do intervalo, você deverá gerar uma exceção. Ou seja, você deve continuar a reprocessá-los até que eles digam algo que possa ser convertido em um inteiro e, em seguida, retorne esse número se ele estiver no intervalo e apresente outra exceção. Duas execuções de amostra são mostradas abaixo\n",
    "\n",
    "```\n",
    "# (Call 1)\n",
    "How old are you? ABC\n",
    "Invalid integer input.\n",
    "How old are you? -4.5\n",
    "Invalid integer input.\n",
    "How old are you? 36\n",
    "# returns 36\n",
    "\n",
    "# (Call 2)\n",
    "How old are you? XYZ\n",
    "Invalid integer input.\n",
    "How old are you? 128\n",
    "# raises some exception\n",
    "Traceback (most recent call last):\n",
    "  File \"<stdin>\", line 1, in <module>\n",
    "ValueError: Age 128 out of range\n",
    "```\n"
   ]
  },
  {
   "cell_type": "code",
   "execution_count": null,
   "metadata": {},
   "outputs": [],
   "source": [
    "def get_age(min_age=0, max_age=123):\n",
    "    pass"
   ]
  },
  {
   "cell_type": "markdown",
   "metadata": {},
   "source": [
    "### Exceções Personalizadas\n",
    "\n",
    "Escreva uma classe de exceção personalizada chamada `OutOfRangeError` que herda de `ValueError` que indica que um determinado valor está fora de um intervalo aceitável. Como é essa definição de classe?\n",
    "\n",
    "``` \n",
    "# Implement OutOfRangeError\n",
    "```\n",
    "\n",
    "Reescreva seu código em `get_age` para usar esta exceção personalizada. Você precisa alterar algum outro código?\n"
   ]
  },
  {
   "cell_type": "code",
   "execution_count": null,
   "metadata": {},
   "outputs": [],
   "source": [
    "# Add code here!"
   ]
  },
  {
   "cell_type": "markdown",
   "metadata": {},
   "source": [
    "### Usando `else` e `finally`\n",
    "\n",
    "Reescreva sua função `get_age` para usar o bloco `else` e, opcionalmente, o bloco `finally`. Como é consistente com as diretrizes gerais de estilo, tente manter o bloco `try` tão curto quanto possível, contendo apenas o código que pode levantar a exceção que você está tentando capturar."
   ]
  },
  {
   "cell_type": "markdown",
   "metadata": {},
   "source": [
    "### Reraising\n",
    "\n",
    "Considere o seguinte código:\n",
    "\n",
    "```Python\n",
    "try:\n",
    "    print(\"in try\")\n",
    "    # (A)\n",
    "except Exception as exc:\n",
    "    print(\"in except\")\n",
    "    # (B)\n",
    "else:\n",
    "    print(\"in else\")\n",
    "    # (C)\n",
    "finally:\n",
    "    print(\"in finally\")\n",
    "    # (D)\n",
    "```\n",
    "\n",
    "Vamos adicionar alguns erros a este bloco de código, que atualmente é impresso\n",
    "\n",
    "```\n",
    "in try\n",
    "in else\n",
    "in finally\n",
    "```\n",
    "\n",
    "Para cada um dos locais rotulados `(A), (B), (C), (D)`, quais declarações serão impressas se `raise Exception()` estiver nessa posição? Execute o código para testar suas hipóteses."
   ]
  },
  {
   "cell_type": "code",
   "execution_count": 268,
   "metadata": {},
   "outputs": [
    {
     "name": "stdout",
     "output_type": "stream",
     "text": [
      "Try\n",
      "Except\n",
      "Finally\n"
     ]
    }
   ],
   "source": [
    "# Case (A)\n",
    "try:\n",
    "    print(\"Try\")\n",
    "    raise Exception('An on-purpose exception.')\n",
    "except Exception as exc:\n",
    "    print(\"Except\")\n",
    "else:\n",
    "    print(\"Else\")\n",
    "finally:\n",
    "    print(\"Finally\")"
   ]
  },
  {
   "cell_type": "code",
   "execution_count": 269,
   "metadata": {},
   "outputs": [
    {
     "name": "stdout",
     "output_type": "stream",
     "text": [
      "Try\n",
      "Else\n",
      "Finally\n"
     ]
    }
   ],
   "source": [
    "# Case (B)\n",
    "try:\n",
    "    print(\"Try\")\n",
    "except Exception as exc:\n",
    "    print(\"Except\")\n",
    "    raise Exception('An on-purpose exception.')\n",
    "else:\n",
    "    print(\"Else\")\n",
    "finally:\n",
    "    print(\"Finally\")"
   ]
  },
  {
   "cell_type": "code",
   "execution_count": 270,
   "metadata": {},
   "outputs": [
    {
     "name": "stdout",
     "output_type": "stream",
     "text": [
      "Try\n",
      "Else\n",
      "Finally\n"
     ]
    },
    {
     "ename": "Exception",
     "evalue": "An on-purpose exception.",
     "output_type": "error",
     "traceback": [
      "\u001b[1;31m---------------------------------------------------------------------------\u001b[0m",
      "\u001b[1;31mException\u001b[0m                                 Traceback (most recent call last)",
      "\u001b[1;32m<ipython-input-270-53b523c968c3>\u001b[0m in \u001b[0;36m<module>\u001b[1;34m\u001b[0m\n\u001b[0;32m      6\u001b[0m \u001b[1;32melse\u001b[0m\u001b[1;33m:\u001b[0m\u001b[1;33m\u001b[0m\u001b[1;33m\u001b[0m\u001b[0m\n\u001b[0;32m      7\u001b[0m     \u001b[0mprint\u001b[0m\u001b[1;33m(\u001b[0m\u001b[1;34m\"Else\"\u001b[0m\u001b[1;33m)\u001b[0m\u001b[1;33m\u001b[0m\u001b[1;33m\u001b[0m\u001b[0m\n\u001b[1;32m----> 8\u001b[1;33m     \u001b[1;32mraise\u001b[0m \u001b[0mException\u001b[0m\u001b[1;33m(\u001b[0m\u001b[1;34m'An on-purpose exception.'\u001b[0m\u001b[1;33m)\u001b[0m\u001b[1;33m\u001b[0m\u001b[1;33m\u001b[0m\u001b[0m\n\u001b[0m\u001b[0;32m      9\u001b[0m \u001b[1;32mfinally\u001b[0m\u001b[1;33m:\u001b[0m\u001b[1;33m\u001b[0m\u001b[1;33m\u001b[0m\u001b[0m\n\u001b[0;32m     10\u001b[0m     \u001b[0mprint\u001b[0m\u001b[1;33m(\u001b[0m\u001b[1;34m\"Finally\"\u001b[0m\u001b[1;33m)\u001b[0m\u001b[1;33m\u001b[0m\u001b[1;33m\u001b[0m\u001b[0m\n",
      "\u001b[1;31mException\u001b[0m: An on-purpose exception."
     ]
    }
   ],
   "source": [
    "# Case (C)\n",
    "try:\n",
    "    print(\"Try\")\n",
    "except Exception as exc:\n",
    "    print(\"Except\")\n",
    "else:\n",
    "    print(\"Else\")\n",
    "    raise Exception('An on-purpose exception.')\n",
    "finally:\n",
    "    print(\"Finally\")"
   ]
  },
  {
   "cell_type": "code",
   "execution_count": 271,
   "metadata": {},
   "outputs": [
    {
     "name": "stdout",
     "output_type": "stream",
     "text": [
      "Try\n",
      "Else\n",
      "Finally\n"
     ]
    },
    {
     "ename": "Exception",
     "evalue": "An on-purpose exception.",
     "output_type": "error",
     "traceback": [
      "\u001b[1;31m---------------------------------------------------------------------------\u001b[0m",
      "\u001b[1;31mException\u001b[0m                                 Traceback (most recent call last)",
      "\u001b[1;32m<ipython-input-271-128182ca7a07>\u001b[0m in \u001b[0;36m<module>\u001b[1;34m\u001b[0m\n\u001b[0;32m      8\u001b[0m \u001b[1;32mfinally\u001b[0m\u001b[1;33m:\u001b[0m\u001b[1;33m\u001b[0m\u001b[1;33m\u001b[0m\u001b[0m\n\u001b[0;32m      9\u001b[0m     \u001b[0mprint\u001b[0m\u001b[1;33m(\u001b[0m\u001b[1;34m\"Finally\"\u001b[0m\u001b[1;33m)\u001b[0m\u001b[1;33m\u001b[0m\u001b[1;33m\u001b[0m\u001b[0m\n\u001b[1;32m---> 10\u001b[1;33m     \u001b[1;32mraise\u001b[0m \u001b[0mException\u001b[0m\u001b[1;33m(\u001b[0m\u001b[1;34m'An on-purpose exception.'\u001b[0m\u001b[1;33m)\u001b[0m\u001b[1;33m\u001b[0m\u001b[1;33m\u001b[0m\u001b[0m\n\u001b[0m",
      "\u001b[1;31mException\u001b[0m: An on-purpose exception."
     ]
    }
   ],
   "source": [
    "# Case (D)\n",
    "try:\n",
    "    print(\"Try\")\n",
    "except Exception as exc:\n",
    "    print(\"Except\")\n",
    "else:\n",
    "    print(\"Else\")\n",
    "finally:\n",
    "    print(\"Finally\")\n",
    "    raise Exception('An on-purpose exception.')"
   ]
  },
  {
   "cell_type": "code",
   "execution_count": 272,
   "metadata": {},
   "outputs": [
    {
     "name": "stdout",
     "output_type": "stream",
     "text": [
      "Try\n",
      "Except\n",
      "Finally\n"
     ]
    },
    {
     "ename": "Exception",
     "evalue": "Another on-purpose exception.",
     "output_type": "error",
     "traceback": [
      "\u001b[1;31m---------------------------------------------------------------------------\u001b[0m",
      "\u001b[1;31mException\u001b[0m                                 Traceback (most recent call last)",
      "\u001b[1;32m<ipython-input-272-b81486064f4d>\u001b[0m in \u001b[0;36m<module>\u001b[1;34m\u001b[0m\n\u001b[0;32m      3\u001b[0m     \u001b[0mprint\u001b[0m\u001b[1;33m(\u001b[0m\u001b[1;34m\"Try\"\u001b[0m\u001b[1;33m)\u001b[0m\u001b[1;33m\u001b[0m\u001b[1;33m\u001b[0m\u001b[0m\n\u001b[1;32m----> 4\u001b[1;33m     \u001b[1;32mraise\u001b[0m \u001b[0mException\u001b[0m\u001b[1;33m(\u001b[0m\u001b[1;34m'An on-purpose exception.'\u001b[0m\u001b[1;33m)\u001b[0m\u001b[1;33m\u001b[0m\u001b[1;33m\u001b[0m\u001b[0m\n\u001b[0m\u001b[0;32m      5\u001b[0m \u001b[1;32mexcept\u001b[0m \u001b[0mException\u001b[0m \u001b[1;32mas\u001b[0m \u001b[0mexc\u001b[0m\u001b[1;33m:\u001b[0m\u001b[1;33m\u001b[0m\u001b[1;33m\u001b[0m\u001b[0m\n",
      "\u001b[1;31mException\u001b[0m: An on-purpose exception.",
      "\nDuring handling of the above exception, another exception occurred:\n",
      "\u001b[1;31mException\u001b[0m                                 Traceback (most recent call last)",
      "\u001b[1;32m<ipython-input-272-b81486064f4d>\u001b[0m in \u001b[0;36m<module>\u001b[1;34m\u001b[0m\n\u001b[0;32m      5\u001b[0m \u001b[1;32mexcept\u001b[0m \u001b[0mException\u001b[0m \u001b[1;32mas\u001b[0m \u001b[0mexc\u001b[0m\u001b[1;33m:\u001b[0m\u001b[1;33m\u001b[0m\u001b[1;33m\u001b[0m\u001b[0m\n\u001b[0;32m      6\u001b[0m     \u001b[0mprint\u001b[0m\u001b[1;33m(\u001b[0m\u001b[1;34m\"Except\"\u001b[0m\u001b[1;33m)\u001b[0m\u001b[1;33m\u001b[0m\u001b[1;33m\u001b[0m\u001b[0m\n\u001b[1;32m----> 7\u001b[1;33m     \u001b[1;32mraise\u001b[0m \u001b[0mException\u001b[0m\u001b[1;33m(\u001b[0m\u001b[1;34m'Another on-purpose exception.'\u001b[0m\u001b[1;33m)\u001b[0m\u001b[1;33m\u001b[0m\u001b[1;33m\u001b[0m\u001b[0m\n\u001b[0m\u001b[0;32m      8\u001b[0m \u001b[1;32melse\u001b[0m\u001b[1;33m:\u001b[0m\u001b[1;33m\u001b[0m\u001b[1;33m\u001b[0m\u001b[0m\n\u001b[0;32m      9\u001b[0m     \u001b[0mprint\u001b[0m\u001b[1;33m(\u001b[0m\u001b[1;34m\"Else\"\u001b[0m\u001b[1;33m)\u001b[0m\u001b[1;33m\u001b[0m\u001b[1;33m\u001b[0m\u001b[0m\n",
      "\u001b[1;31mException\u001b[0m: Another on-purpose exception."
     ]
    }
   ],
   "source": [
    "# Case (AB)\n",
    "try:\n",
    "    print(\"Try\")\n",
    "    raise Exception('An on-purpose exception.')\n",
    "except Exception as exc:\n",
    "    print(\"Except\")\n",
    "    raise Exception('Another on-purpose exception.')\n",
    "else:\n",
    "    print(\"Else\")\n",
    "finally:\n",
    "    print(\"Finally\")"
   ]
  },
  {
   "cell_type": "code",
   "execution_count": 273,
   "metadata": {},
   "outputs": [
    {
     "name": "stdout",
     "output_type": "stream",
     "text": [
      "Try\n",
      "Except\n",
      "Finally\n"
     ]
    }
   ],
   "source": [
    "# Case (AC)\n",
    "try:\n",
    "    print(\"Try\")\n",
    "    raise Exception('An on-purpose exception.')\n",
    "except Exception as exc:\n",
    "    print(\"Except\")\n",
    "else:\n",
    "    print(\"Else\")\n",
    "    raise Exception('Another on-purpose exception.')\n",
    "finally:\n",
    "    print(\"Finally\")"
   ]
  },
  {
   "cell_type": "code",
   "execution_count": 274,
   "metadata": {},
   "outputs": [
    {
     "name": "stdout",
     "output_type": "stream",
     "text": [
      "Try\n",
      "Except\n",
      "Finally\n"
     ]
    },
    {
     "ename": "Exception",
     "evalue": "Another on-purpose exception.",
     "output_type": "error",
     "traceback": [
      "\u001b[1;31m---------------------------------------------------------------------------\u001b[0m",
      "\u001b[1;31mException\u001b[0m                                 Traceback (most recent call last)",
      "\u001b[1;32m<ipython-input-274-0362d8d2080c>\u001b[0m in \u001b[0;36m<module>\u001b[1;34m\u001b[0m\n\u001b[0;32m      9\u001b[0m \u001b[1;32mfinally\u001b[0m\u001b[1;33m:\u001b[0m\u001b[1;33m\u001b[0m\u001b[1;33m\u001b[0m\u001b[0m\n\u001b[0;32m     10\u001b[0m     \u001b[0mprint\u001b[0m\u001b[1;33m(\u001b[0m\u001b[1;34m\"Finally\"\u001b[0m\u001b[1;33m)\u001b[0m\u001b[1;33m\u001b[0m\u001b[1;33m\u001b[0m\u001b[0m\n\u001b[1;32m---> 11\u001b[1;33m     \u001b[1;32mraise\u001b[0m \u001b[0mException\u001b[0m\u001b[1;33m(\u001b[0m\u001b[1;34m'Another on-purpose exception.'\u001b[0m\u001b[1;33m)\u001b[0m\u001b[1;33m\u001b[0m\u001b[1;33m\u001b[0m\u001b[0m\n\u001b[0m",
      "\u001b[1;31mException\u001b[0m: Another on-purpose exception."
     ]
    }
   ],
   "source": [
    "# Case (AD)\n",
    "try:\n",
    "    print(\"Try\")\n",
    "    raise Exception('An on-purpose exception.')\n",
    "except Exception as exc:\n",
    "    print(\"Except\")\n",
    "else:\n",
    "    print(\"Else\")\n",
    "finally:\n",
    "    print(\"Finally\")\n",
    "    raise Exception('Another on-purpose exception.')"
   ]
  },
  {
   "cell_type": "code",
   "execution_count": null,
   "metadata": {},
   "outputs": [],
   "source": []
  }
 ],
 "metadata": {
  "kernelspec": {
   "display_name": "Python 3",
   "language": "python",
   "name": "python3"
  },
  "language_info": {
   "codemirror_mode": {
    "name": "ipython",
    "version": 3
   },
   "file_extension": ".py",
   "mimetype": "text/x-python",
   "name": "python",
   "nbconvert_exporter": "python",
   "pygments_lexer": "ipython3",
   "version": "3.6.7"
  }
 },
 "nbformat": 4,
 "nbformat_minor": 2
}
